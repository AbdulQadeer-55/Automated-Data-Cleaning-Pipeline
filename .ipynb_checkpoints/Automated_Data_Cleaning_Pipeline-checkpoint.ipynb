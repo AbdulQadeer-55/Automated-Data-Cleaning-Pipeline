{
 "cells": [
  {
   "cell_type": "markdown",
   "metadata": {},
   "source": [
    "# **Automated Data Cleaning Pipeline**\n",
    "\n",
    "**Author**: Abdul Qadeer\n",
    "<br>\n",
    "*AI & Data Science Consultant | AI Researcher | Delivering Scalable AI Solutions for Real-World Challenges*  \n",
    "**Date**: September 2024  \n",
    "**Contact**: itsabdulqadeer.55@gmail.com  \n",
    "**LinkedIn**: [Abdul Qadeer](https://www.linkedin.com/in/abdulqadeer99/)\n",
    "\n",
    "---\n",
    "\n",
    "This notebook contains scripts and functions to automate common data cleaning tasks, including handling missing values, encoding categorical variables, detecting and removing outliers, and scaling numeric features. This pipeline is designed to be a reusable, plug-and-play solution for any data preprocessing task.\n"
   ]
  },
  {
   "cell_type": "code",
   "execution_count": 13,
   "metadata": {},
   "outputs": [
    {
     "name": "stdout",
     "output_type": "stream",
     "text": [
      "Original Dataset:\n",
      "    Pregnancies  Glucose  BloodPressure  SkinThickness  Insulin   BMI  \\\n",
      "0            6      148             72             35        0  33.6   \n",
      "1            1       85             66             29        0  26.6   \n",
      "2            8      183             64              0        0  23.3   \n",
      "3            1       89             66             23       94  28.1   \n",
      "4            0      137             40             35      168  43.1   \n",
      "\n",
      "   DiabetesPedigreeFunction  Age  Outcome  \n",
      "0                     0.627   50        1  \n",
      "1                     0.351   31        0  \n",
      "2                     0.672   32        1  \n",
      "3                     0.167   21        0  \n",
      "4                     2.288   33        1  \n"
     ]
    }
   ],
   "source": [
    "# Importing necessary libraries\n",
    "import pandas as pd\n",
    "import numpy as np\n",
    "from sklearn.impute import SimpleImputer\n",
    "from sklearn.preprocessing import OneHotEncoder, LabelEncoder\n",
    "from sklearn.preprocessing import StandardScaler\n",
    "from scipy import stats\n",
    "\n",
    "# Loading a sample dataset (Replace with your dataset)\n",
    "url = 'https://raw.githubusercontent.com/jbrownlee/Datasets/master/pima-indians-diabetes.data.csv'\n",
    "# Defining column names for this dataset\n",
    "columns = ['Pregnancies', 'Glucose', 'BloodPressure', 'SkinThickness', 'Insulin', 'BMI', 'DiabetesPedigreeFunction', 'Age', 'Outcome']\n",
    "df = pd.read_csv(url, names=columns)\n",
    "\n",
    "# Displaying first few rows of the dataset\n",
    "print(\"Original Dataset:\\n\", df.head())"
   ]
  },
  {
   "cell_type": "markdown",
   "metadata": {},
   "source": [
    "pip install sklearn"
   ]
  },
  {
   "cell_type": "code",
   "execution_count": 14,
   "metadata": {},
   "outputs": [
    {
     "name": "stdout",
     "output_type": "stream",
     "text": [
      "Defaulting to user installation because normal site-packages is not writeable\n",
      "Requirement already satisfied: scikit-learn in /home/evaface/.local/lib/python3.10/site-packages (1.5.2)\n",
      "Requirement already satisfied: numpy>=1.19.5 in /home/evaface/.local/lib/python3.10/site-packages (from scikit-learn) (1.26.4)\n",
      "Requirement already satisfied: scipy>=1.6.0 in /home/evaface/.local/lib/python3.10/site-packages (from scikit-learn) (1.14.1)\n",
      "Requirement already satisfied: threadpoolctl>=3.1.0 in /home/evaface/.local/lib/python3.10/site-packages (from scikit-learn) (3.5.0)\n",
      "Requirement already satisfied: joblib>=1.2.0 in /home/evaface/.local/lib/python3.10/site-packages (from scikit-learn) (1.4.2)\n",
      "Note: you may need to restart the kernel to use updated packages.\n"
     ]
    }
   ],
   "source": [
    "pip install -U scikit-learn"
   ]
  },
  {
   "cell_type": "markdown",
   "metadata": {},
   "source": [
    "# ---------------------\n",
    "# 1. Handling Missing Data\n",
    "# ---------------------\n"
   ]
  },
  {
   "cell_type": "code",
   "execution_count": 15,
   "metadata": {},
   "outputs": [
    {
     "name": "stdout",
     "output_type": "stream",
     "text": [
      "\n",
      "Checking Missing Data:\n",
      " Pregnancies                 0\n",
      "Glucose                     0\n",
      "BloodPressure               0\n",
      "SkinThickness               0\n",
      "Insulin                     0\n",
      "BMI                         0\n",
      "DiabetesPedigreeFunction    0\n",
      "Age                         0\n",
      "Outcome                     0\n",
      "dtype: int64\n",
      "\n",
      "Dataset after Imputation (Filling Missing Data):\n",
      "    Pregnancies  Glucose  BloodPressure  SkinThickness  Insulin   BMI  \\\n",
      "0            6    148.0           72.0           35.0      0.0  33.6   \n",
      "1            1     85.0           66.0           29.0      0.0  26.6   \n",
      "2            8    183.0           64.0            0.0      0.0  23.3   \n",
      "3            1     89.0           66.0           23.0     94.0  28.1   \n",
      "4            0    137.0           40.0           35.0    168.0  43.1   \n",
      "\n",
      "   DiabetesPedigreeFunction  Age  Outcome  \n",
      "0                     0.627   50        1  \n",
      "1                     0.351   31        0  \n",
      "2                     0.672   32        1  \n",
      "3                     0.167   21        0  \n",
      "4                     2.288   33        1  \n"
     ]
    }
   ],
   "source": [
    "\n",
    "# Checking for missing values in Glucose and BloodPressure columns\n",
    "print(\"\\nChecking Missing Data:\\n\", df.isnull().sum())\n",
    "\n",
    "# Using SimpleImputer to fill missing values with the mean for numerical columns\n",
    "imputer = SimpleImputer(strategy='mean')\n",
    "df[['Glucose', 'BloodPressure', 'SkinThickness', 'Insulin', 'BMI']] = imputer.fit_transform(df[['Glucose', 'BloodPressure', 'SkinThickness', 'Insulin', 'BMI']])\n",
    "\n",
    "print(\"\\nDataset after Imputation (Filling Missing Data):\\n\", df.head())"
   ]
  },
  {
   "cell_type": "markdown",
   "metadata": {},
   "source": [
    "# ---------------------\n",
    "# 2. Encoding Categorical Variables\n",
    "# ---------------------\n"
   ]
  },
  {
   "cell_type": "code",
   "execution_count": 16,
   "metadata": {},
   "outputs": [
    {
     "name": "stdout",
     "output_type": "stream",
     "text": [
      "\n",
      "Dataset after Encoding 'Outcome' Column:\n",
      "    Pregnancies  Glucose  BloodPressure  SkinThickness  Insulin   BMI  \\\n",
      "0            6    148.0           72.0           35.0      0.0  33.6   \n",
      "1            1     85.0           66.0           29.0      0.0  26.6   \n",
      "2            8    183.0           64.0            0.0      0.0  23.3   \n",
      "3            1     89.0           66.0           23.0     94.0  28.1   \n",
      "4            0    137.0           40.0           35.0    168.0  43.1   \n",
      "\n",
      "   DiabetesPedigreeFunction  Age  Outcome  \n",
      "0                     0.627   50        1  \n",
      "1                     0.351   31        0  \n",
      "2                     0.672   32        1  \n",
      "3                     0.167   21        0  \n",
      "4                     2.288   33        1  \n"
     ]
    }
   ],
   "source": [
    "\n",
    "# Encoding the 'Outcome' column (binary classification) using Label Encoding\n",
    "label_encoder = LabelEncoder()\n",
    "df['Outcome'] = label_encoder.fit_transform(df['Outcome'])\n",
    "\n",
    "print(\"\\nDataset after Encoding 'Outcome' Column:\\n\", df.head())"
   ]
  },
  {
   "cell_type": "markdown",
   "metadata": {},
   "source": [
    "# ---------------------\n",
    "# 3. Outlier Detection and Removal\n",
    "# ---------------------\n"
   ]
  },
  {
   "cell_type": "code",
   "execution_count": 17,
   "metadata": {},
   "outputs": [
    {
     "name": "stdout",
     "output_type": "stream",
     "text": [
      "\n",
      "Number of Outliers Detected:\n",
      " 69\n",
      "\n",
      "Dataset after Outlier Removal:\n",
      "    Pregnancies  Glucose  BloodPressure  SkinThickness  Insulin   BMI  \\\n",
      "0            6    148.0           72.0           35.0      0.0  33.6   \n",
      "1            1     85.0           66.0           29.0      0.0  26.6   \n",
      "2            8    183.0           64.0            0.0      0.0  23.3   \n",
      "3            1     89.0           66.0           23.0     94.0  28.1   \n",
      "4            0    137.0           40.0           35.0    168.0  43.1   \n",
      "\n",
      "   DiabetesPedigreeFunction  Age  Outcome  \n",
      "0                     0.627   50        1  \n",
      "1                     0.351   31        0  \n",
      "2                     0.672   32        1  \n",
      "3                     0.167   21        0  \n",
      "4                     2.288   33        1  \n"
     ]
    }
   ],
   "source": [
    "\n",
    "# Detecting outliers using Z-Score for selected columns\n",
    "z_scores = np.abs(stats.zscore(df[['Glucose', 'BloodPressure', 'SkinThickness', 'Insulin', 'BMI', 'Age']]))\n",
    "outliers = (z_scores > 3)\n",
    "\n",
    "# Displaying number of rows with outliers\n",
    "print(\"\\nNumber of Outliers Detected:\\n\", outliers.any(axis=1).sum())\n",
    "\n",
    "# Removing rows with outliers (i.e., where any feature has z-score > 3)\n",
    "df_cleaned = df[(z_scores < 3).all(axis=1)]\n",
    "\n",
    "print(\"\\nDataset after Outlier Removal:\\n\", df_cleaned.head())"
   ]
  },
  {
   "cell_type": "markdown",
   "metadata": {},
   "source": [
    "# ---------------------\n",
    "# 4. Scaling/Normalization\n",
    "# ---------------------"
   ]
  },
  {
   "cell_type": "code",
   "execution_count": 18,
   "metadata": {},
   "outputs": [
    {
     "name": "stdout",
     "output_type": "stream",
     "text": [
      "\n",
      "Dataset after Scaling:\n",
      "    Pregnancies   Glucose  BloodPressure  SkinThickness   Insulin       BMI  \\\n",
      "0            6  0.915971      -0.020204       0.920562 -0.807617  0.204965   \n",
      "1            1 -1.181180      -0.507197       0.529631 -0.807617 -0.851603   \n",
      "2            8  2.081054      -0.669528      -1.359871 -0.807617 -1.349700   \n",
      "3            1 -1.048028      -0.507197       0.138700  0.235928 -0.625196   \n",
      "4            0  0.549801      -2.617499       0.920562  1.057442  1.638879   \n",
      "\n",
      "   DiabetesPedigreeFunction       Age  Outcome  \n",
      "0                     0.627  1.478354        1  \n",
      "1                     0.351 -0.188229        0  \n",
      "2                     0.672 -0.100515        1  \n",
      "3                     0.167 -1.065379        0  \n",
      "4                     2.288 -0.012800        1  \n"
     ]
    },
    {
     "name": "stderr",
     "output_type": "stream",
     "text": [
      "/tmp/ipykernel_1551/210559956.py:3: SettingWithCopyWarning: \n",
      "A value is trying to be set on a copy of a slice from a DataFrame.\n",
      "Try using .loc[row_indexer,col_indexer] = value instead\n",
      "\n",
      "See the caveats in the documentation: https://pandas.pydata.org/pandas-docs/stable/user_guide/indexing.html#returning-a-view-versus-a-copy\n",
      "  df_cleaned[['Glucose', 'BloodPressure', 'SkinThickness', 'Insulin', 'BMI', 'Age']] = scaler.fit_transform(df_cleaned[['Glucose', 'BloodPressure', 'SkinThickness', 'Insulin', 'BMI', 'Age']])\n"
     ]
    }
   ],
   "source": [
    "\n",
    "# Normalizing numeric features\n",
    "scaler = StandardScaler()\n",
    "df_cleaned[['Glucose', 'BloodPressure', 'SkinThickness', 'Insulin', 'BMI', 'Age']] = scaler.fit_transform(df_cleaned[['Glucose', 'BloodPressure', 'SkinThickness', 'Insulin', 'BMI', 'Age']])\n",
    "\n",
    "print(\"\\nDataset after Scaling:\\n\", df_cleaned.head())"
   ]
  },
  {
   "cell_type": "markdown",
   "metadata": {},
   "source": [
    "# ---------------------\n",
    "# 4. Saving the Dataset\n",
    "# ---------------------\n"
   ]
  },
  {
   "cell_type": "code",
   "execution_count": 19,
   "metadata": {},
   "outputs": [
    {
     "name": "stdout",
     "output_type": "stream",
     "text": [
      "\n",
      "Cleaned dataset saved as 'cleaned_data.csv'\n"
     ]
    }
   ],
   "source": [
    "\n",
    "# Saving the cleaned dataset to a CSV file\n",
    "df_cleaned.to_csv('cleaned_data.csv', index=False)\n",
    "print(\"\\nCleaned dataset saved as 'cleaned_data.csv'\")\n"
   ]
  }
 ],
 "metadata": {
  "kernelspec": {
   "display_name": "Python 3 (ipykernel)",
   "language": "python",
   "name": "python3"
  },
  "language_info": {
   "codemirror_mode": {
    "name": "ipython",
    "version": 3
   },
   "file_extension": ".py",
   "mimetype": "text/x-python",
   "name": "python",
   "nbconvert_exporter": "python",
   "pygments_lexer": "ipython3",
   "version": "3.10.12"
  }
 },
 "nbformat": 4,
 "nbformat_minor": 4
}
